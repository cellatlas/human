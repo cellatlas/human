{
  "nbformat": 4,
  "nbformat_minor": 0,
  "metadata": {
    "colab": {
      "name": "uterus.ipynb",
      "provenance": [],
      "include_colab_link": true
    },
    "kernelspec": {
      "name": "python3",
      "display_name": "Python 3"
    },
    "language_info": {
      "name": "python"
    }
  },
  "cells": [
    {
      "cell_type": "markdown",
      "metadata": {
        "id": "view-in-github",
        "colab_type": "text"
      },
      "source": [
        "<a href=\"https://colab.research.google.com/github/cellatlas/human/blob/master/markers/uterus/markers.ipynb\" target=\"_parent\"><img src=\"https://colab.research.google.com/assets/colab-badge.svg\" alt=\"Open In Colab\"/></a>"
      ]
    },
    {
      "cell_type": "code",
      "metadata": {
        "colab": {
          "base_uri": "https://localhost:8080/"
        },
        "id": "i_rEgmnag5rx",
        "outputId": "7621eeb2-57da-4675-9dc3-5d57018efcdd"
      },
      "source": [
        "!pip install --quiet anndata statsmodels\n",
        "!pip install -q gget\n",
        "!pip install -q git+https://github.com/sbooeshaghi/ec\n"
      ],
      "execution_count": 1,
      "outputs": [
        {
          "output_type": "stream",
          "name": "stdout",
          "text": [
            "\u001b[2K     \u001b[90m━━━━━━━━━━━━━━━━━━━━━━━━━━━━━━━━━━━━━━━━\u001b[0m \u001b[32m96.1/96.1 KB\u001b[0m \u001b[31m3.1 MB/s\u001b[0m eta \u001b[36m0:00:00\u001b[0m\n",
            "\u001b[2K     \u001b[90m━━━━━━━━━━━━━━━━━━━━━━━━━━━━━━━━━━━━━━━━\u001b[0m \u001b[32m2.2/2.2 MB\u001b[0m \u001b[31m18.0 MB/s\u001b[0m eta \u001b[36m0:00:00\u001b[0m\n",
            "\u001b[2K     \u001b[90m━━━━━━━━━━━━━━━━━━━━━━━━━━━━━━━━━━━━━━━━\u001b[0m \u001b[32m25.2/25.2 MB\u001b[0m \u001b[31m18.3 MB/s\u001b[0m eta \u001b[36m0:00:00\u001b[0m\n",
            "\u001b[2K     \u001b[90m━━━━━━━━━━━━━━━━━━━━━━━━━━━━━━━━━━━━━━━━\u001b[0m \u001b[32m1.6/1.6 MB\u001b[0m \u001b[31m13.7 MB/s\u001b[0m eta \u001b[36m0:00:00\u001b[0m\n",
            "\u001b[?25h  Preparing metadata (setup.py) ... \u001b[?25l\u001b[?25hdone\n",
            "  Building wheel for ec (setup.py) ... \u001b[?25l\u001b[?25hdone\n"
          ]
        }
      ]
    },
    {
      "cell_type": "code",
      "source": [
        "import pandas as pd\n",
        "import numpy as np\n",
        "from ec.utils import write_markers"
      ],
      "metadata": {
        "id": "m3KjnHUnic9j"
      },
      "execution_count": 2,
      "outputs": []
    },
    {
      "cell_type": "code",
      "metadata": {
        "id": "n7BDptC8g8_N"
      },
      "source": [
        "!wget --quiet \"https://figshare.com/ndownloader/files/28846980\""
      ],
      "execution_count": 3,
      "outputs": []
    },
    {
      "cell_type": "code",
      "metadata": {
        "colab": {
          "base_uri": "https://localhost:8080/"
        },
        "id": "vq1DaQi8hDEp",
        "outputId": "87f64c94-cdd5-4af3-f6e1-9cafc9015e7b"
      },
      "source": [
        "!unzip 28846980"
      ],
      "execution_count": 4,
      "outputs": [
        {
          "output_type": "stream",
          "name": "stdout",
          "text": [
            "Archive:  28846980\n",
            "  inflating: TS_Uterus.h5ad          \n",
            "  inflating: __MACOSX/._TS_Uterus.h5ad  \n"
          ]
        }
      ]
    },
    {
      "cell_type": "code",
      "source": [
        "# Get valid gene names\n",
        "!wget -O genes.txt https://caltech.box.com/shared/static/4r5prhstoq2j1lk8l56bpwqqvfj54q2u.txt\n",
        "genes_list = pd.read_csv('genes.txt', header = None)[0].values"
      ],
      "metadata": {
        "colab": {
          "base_uri": "https://localhost:8080/"
        },
        "id": "gfpYeBi7i22m",
        "outputId": "3ee13cb9-08df-409a-8339-edad059e4cc7"
      },
      "execution_count": 5,
      "outputs": [
        {
          "output_type": "stream",
          "name": "stdout",
          "text": [
            "--2023-03-18 06:03:46--  https://caltech.box.com/shared/static/4r5prhstoq2j1lk8l56bpwqqvfj54q2u.txt\n",
            "Resolving caltech.box.com (caltech.box.com)... 74.112.186.144\n",
            "Connecting to caltech.box.com (caltech.box.com)|74.112.186.144|:443... connected.\n",
            "HTTP request sent, awaiting response... 301 Moved Permanently\n",
            "Location: /public/static/4r5prhstoq2j1lk8l56bpwqqvfj54q2u.txt [following]\n",
            "--2023-03-18 06:03:46--  https://caltech.box.com/public/static/4r5prhstoq2j1lk8l56bpwqqvfj54q2u.txt\n",
            "Reusing existing connection to caltech.box.com:443.\n",
            "HTTP request sent, awaiting response... 301 Moved Permanently\n",
            "Location: https://caltech.app.box.com/public/static/4r5prhstoq2j1lk8l56bpwqqvfj54q2u.txt [following]\n",
            "--2023-03-18 06:03:46--  https://caltech.app.box.com/public/static/4r5prhstoq2j1lk8l56bpwqqvfj54q2u.txt\n",
            "Resolving caltech.app.box.com (caltech.app.box.com)... 74.112.186.144\n",
            "Connecting to caltech.app.box.com (caltech.app.box.com)|74.112.186.144|:443... connected.\n",
            "HTTP request sent, awaiting response... 302 Found\n",
            "Location: https://dl2.boxcloud.com/d/1/b1!Kf6DaIAMiGlZgWtt5PH-4Ip5HQuvjkOGlgDdj0-jSpO7OXDufMpSAuVhgj5sCprwG65cbDDINIbkGfDpWGZZ0svgJyBxi50rtPeH6hsy_6uJG2zI2qZE88GrS3uUMOqtLtI9VeA21zV6V-7mLclQayJINV2ASDWLuFAefExjyZez7PykDWlLP7W9lWtasskMb8OgFZwSMeHNhHI-zuCzgx1tNO9qVoB2Q0MnGNAXs0pB6T7cPGBxfBMcWshZrc6V4kiVfkXc1IE3P7RzxR7CUpK_J2WV7fgI2KQu_s8TBkzuDblDbF-gx0ZztKBe75Fv3GctjVp-jORW-s2gHi1uuEcNP-4v3N0rJyHKoY5wFoV9JiFh8xK0vMeB8YU8j5aBPLZmGC1_MQ6k5fyWVPMgO6zjY3MpMiuT8yUCaO27cD83E7-v-6wpOLpiUCLBm4yuKgTh6WQzuR4fUYwbdMJnwJk3aHO9d-w8N8AJfEznBRFOlWp1T_KJMksNnMwQu-_pza6t8MPF31xi3r2aD6GDt3kfTSWHut0aN8-PNC1d3mwAXWk8sRJdEYwYkd0WV1jz1aBi6IY8Aa7b6MSaiiaRkQZbmYUruo-Gdx6NZu8tf8YfYu3dtyBR1seZVi-CviRaxPbvHmAl5NqgKUykHEcEUyse2c-X2ULnY3TMhulWTohuOGF6G4M_YJXUzSe-H_QHNdbd83KeqWZWFSo-zvFcVPlP_JgDqd4uVC9goBrLdkxi9Ntwhq1jtMPFsqs7fymG-jXLQvpQwDyEvH3ZmmXbG9fVu-D0GaAQqd7MurPe2U8OpJT_tSPmHImTzsV-MhcV9brrLm7yj8oraMiTUFz05b7oWW5g2E8tpco76bYj0n4QDMVcKEjTXdqtTWwewUxZgnfxlDrlvjIE93ijAbutpAkuxaJvjIJ51q99TNpIZNKhbcr2WEO80hRky034qoN5t7oqkyNdX_SUAFxskPsdnbGJkgorQsLTpYih1NuceMThJEEgAa8PZjCQ8YFlm6VwF_0sZST3o0maWvtqke1J084qvSnxkT86pRFkqSIVhHbcEnXe3C7K974iXcNIxUVYJCxBuZ30MvvyCm7X_43brj3S229fJH10PhUvZ4P9jmtnOeLvgBdGFgkQhHMiEpH4Kyb2UNulQdC7JGom8ocgQ87AO452giusQcX51dyl1F7qguyUfItuCZTLV9OOYrypnJX9NDINHTy38zsMfkURgBMB5mMZ94KDkJvVis15dQtOFMV6ZMOvwBmQCgFYgIkXEm8IJSW8Izj_uo30VoqmnDFjk3Sq-Ap59Z74qBYCqg3jg2QPSxIpLgRML-jAeIsA-YE2hwgWp-r0SVv3LbX1flIfNNSYzHf2aXOKg-R6Zr7VMFAo990I-UjgNn5NU-0viw../download [following]\n",
            "--2023-03-18 06:03:46--  https://dl2.boxcloud.com/d/1/b1!Kf6DaIAMiGlZgWtt5PH-4Ip5HQuvjkOGlgDdj0-jSpO7OXDufMpSAuVhgj5sCprwG65cbDDINIbkGfDpWGZZ0svgJyBxi50rtPeH6hsy_6uJG2zI2qZE88GrS3uUMOqtLtI9VeA21zV6V-7mLclQayJINV2ASDWLuFAefExjyZez7PykDWlLP7W9lWtasskMb8OgFZwSMeHNhHI-zuCzgx1tNO9qVoB2Q0MnGNAXs0pB6T7cPGBxfBMcWshZrc6V4kiVfkXc1IE3P7RzxR7CUpK_J2WV7fgI2KQu_s8TBkzuDblDbF-gx0ZztKBe75Fv3GctjVp-jORW-s2gHi1uuEcNP-4v3N0rJyHKoY5wFoV9JiFh8xK0vMeB8YU8j5aBPLZmGC1_MQ6k5fyWVPMgO6zjY3MpMiuT8yUCaO27cD83E7-v-6wpOLpiUCLBm4yuKgTh6WQzuR4fUYwbdMJnwJk3aHO9d-w8N8AJfEznBRFOlWp1T_KJMksNnMwQu-_pza6t8MPF31xi3r2aD6GDt3kfTSWHut0aN8-PNC1d3mwAXWk8sRJdEYwYkd0WV1jz1aBi6IY8Aa7b6MSaiiaRkQZbmYUruo-Gdx6NZu8tf8YfYu3dtyBR1seZVi-CviRaxPbvHmAl5NqgKUykHEcEUyse2c-X2ULnY3TMhulWTohuOGF6G4M_YJXUzSe-H_QHNdbd83KeqWZWFSo-zvFcVPlP_JgDqd4uVC9goBrLdkxi9Ntwhq1jtMPFsqs7fymG-jXLQvpQwDyEvH3ZmmXbG9fVu-D0GaAQqd7MurPe2U8OpJT_tSPmHImTzsV-MhcV9brrLm7yj8oraMiTUFz05b7oWW5g2E8tpco76bYj0n4QDMVcKEjTXdqtTWwewUxZgnfxlDrlvjIE93ijAbutpAkuxaJvjIJ51q99TNpIZNKhbcr2WEO80hRky034qoN5t7oqkyNdX_SUAFxskPsdnbGJkgorQsLTpYih1NuceMThJEEgAa8PZjCQ8YFlm6VwF_0sZST3o0maWvtqke1J084qvSnxkT86pRFkqSIVhHbcEnXe3C7K974iXcNIxUVYJCxBuZ30MvvyCm7X_43brj3S229fJH10PhUvZ4P9jmtnOeLvgBdGFgkQhHMiEpH4Kyb2UNulQdC7JGom8ocgQ87AO452giusQcX51dyl1F7qguyUfItuCZTLV9OOYrypnJX9NDINHTy38zsMfkURgBMB5mMZ94KDkJvVis15dQtOFMV6ZMOvwBmQCgFYgIkXEm8IJSW8Izj_uo30VoqmnDFjk3Sq-Ap59Z74qBYCqg3jg2QPSxIpLgRML-jAeIsA-YE2hwgWp-r0SVv3LbX1flIfNNSYzHf2aXOKg-R6Zr7VMFAo990I-UjgNn5NU-0viw../download\n",
            "Resolving dl2.boxcloud.com (dl2.boxcloud.com)... 74.112.186.128\n",
            "Connecting to dl2.boxcloud.com (dl2.boxcloud.com)|74.112.186.128|:443... connected.\n",
            "HTTP request sent, awaiting response... 200 OK\n",
            "Length: 535253 (523K) [text/plain]\n",
            "Saving to: ‘genes.txt’\n",
            "\n",
            "genes.txt           100%[===================>] 522.71K  3.21MB/s    in 0.2s    \n",
            "\n",
            "2023-03-18 06:03:47 (3.21 MB/s) - ‘genes.txt’ saved [535253/535253]\n",
            "\n"
          ]
        }
      ]
    },
    {
      "cell_type": "markdown",
      "metadata": {
        "id": "vOK7uWsik-Yo"
      },
      "source": [
        "# Uterus"
      ]
    },
    {
      "cell_type": "code",
      "metadata": {
        "id": "46ql8Xthk-Gj"
      },
      "source": [
        "organ = \"uterus\"\n",
        "paper = \"https://doi.org/10.1126/science.abl4896\"\n",
        "table = \"https://figshare.com/ndownloader/files/28846980\" # anndata\n",
        "\n",
        "header = [\n",
        "    \n",
        "    {\n",
        "        'table_link' : table\n",
        "    }\n",
        "]"
      ],
      "execution_count": 6,
      "outputs": []
    },
    {
      "cell_type": "code",
      "metadata": {
        "id": "YQsy7IefhQuB"
      },
      "source": [
        "import anndata\n",
        "import numpy as np"
      ],
      "execution_count": 7,
      "outputs": []
    },
    {
      "cell_type": "code",
      "metadata": {
        "cellView": "form",
        "id": "PbR1AFttiP1t"
      },
      "source": [
        "#@title dexpress.py\n",
        "\n",
        "from scipy.stats import ks_2samp, ttest_ind\n",
        "import numpy as np\n",
        "import pandas as pd\n",
        "import logging\n",
        "import sys\n",
        "\n",
        "import numpy as np\n",
        "from statsmodels.stats.multitest import multipletests\n",
        "\n",
        "def split_by_target(mat, targets, target, axis=0):\n",
        "    \"\"\"\n",
        "    Split the rows of mat by the proper assignment\n",
        "    \n",
        "    mat = ndarray\n",
        "    targets, length is equal to number of components (axis=0) or features (axis=1)\n",
        "    target is a singular element from unique(assignments/features) \n",
        "    \"\"\"\n",
        "    if axis==0 and len(targets) != mat.shape[axis]: return -1\n",
        "    if axis==1 and len(targets) != mat.shape[axis]: return -1\n",
        "        \n",
        "    mask = targets == target\n",
        "    \n",
        "    if axis==0:\n",
        "        t_mat = mat[mask]  # target matrix\n",
        "        c_mat = mat[~mask] # complement matrix\n",
        "    elif axis==1:\n",
        "        t_mat = mat[:, mask]  # target matrix\n",
        "        c_mat = mat[:, ~mask] # complement matrix\n",
        "    \n",
        "    return (t_mat, c_mat)\n",
        "\n",
        "def correct_pval(pval, nfeat, method):\n",
        "    if method == 'bonferroni':\n",
        "        pval_corr = np.minimum(pval*nfeat[:,None], 1.0)\n",
        "    return pval_corr\n",
        "\n",
        "def nd(arr):\n",
        "    return np.asarray(arr).reshape(-1)\n",
        "def correct_pvals(pvals):\n",
        "    r = np.empty(np.shape(pvals))\n",
        "    r[:] = np.nan\n",
        "    for pidx, p in enumerate(pvals):\n",
        "        mask = ~np.isnan(p)\n",
        "\n",
        "\n",
        "    return r\n",
        "\n",
        "def dexpress(mat, components, features, assignments, **kwargs):\n",
        "    \"\"\"\n",
        "    mat: ndarray\n",
        "    components: nparray\n",
        "    features: nparray\n",
        "    assignments: nparray, length is equal to length of components\n",
        "    \"\"\"\n",
        "    nan_cutoff = kwargs.get(\"nan_cutoff\", 0)\n",
        "    \n",
        "    unique = np.unique(assignments)\n",
        "        \n",
        "    ncomp = components.shape[0]\n",
        "    nfeat = features.shape[0]\n",
        "    nuniq = unique.shape[0]\n",
        "    \n",
        "    pval = np.empty((nuniq, nfeat)) # unique assignments by features \n",
        "    pval_corr = np.empty((nuniq, nfeat)) # unique assignments by features \n",
        "    stat = np.empty((nuniq, nfeat)) # unique assignments by features \n",
        "    es = np.empty((nuniq, nfeat)) # unique assignments by features \n",
        "    nfeatures = np.empty((nuniq))\n",
        "    \n",
        "    pval.fill(np.nan)\n",
        "    pval_corr.fill(np.nan)\n",
        "    stat.fill(np.nan)\n",
        "    es.fill(np.nan)\n",
        "    nfeatures.fill(np.nan)\n",
        "    \n",
        "\n",
        "    for tidx, t in enumerate(unique):\n",
        "        logging.info(\"{} of {} assignments: {}\".format(tidx+1, nuniq, t))\n",
        "        t_mat, c_mat = split_by_target(mat, assignments, t, axis=0)\n",
        "        \n",
        "        pvalue = np.nan\n",
        "        statistic = np.nan\n",
        "        effect_size = np.nan\n",
        "\n",
        "        # Keep only the genes for which it is in at least nan_cutoff*ncellsinclusters\n",
        "        mask = np.asarray((t_mat>0).sum(axis=0) > nan_cutoff*t_mat.shape[0]).reshape(-1)\n",
        "\n",
        "        t_mat = t_mat[:, mask]\n",
        "        c_mat = c_mat[:, mask]\n",
        "        # added\n",
        "\n",
        "        # added\n",
        "        if mask.sum()>0:\n",
        "            test = ttest_ind(t_mat, c_mat, nan_policy=\"propagate\", equal_var=False)\n",
        "            pvalue = test.pvalue\n",
        "            statistic = test.statistic\n",
        "            effect_size = nd(t_mat.mean(axis=0)) - nd(c_mat.mean(axis=0))\n",
        "            nfeatures[tidx] = mask.sum()\n",
        "                \n",
        "        pval[tidx,:][mask] = pvalue\n",
        "        stat[tidx,:][mask] = statistic\n",
        "        es[tidx,:][mask] = effect_size\n",
        "    return (pval, stat, es, nfeatures)\n",
        "\n",
        "def make_table(assignments, features, p_raw, p_corr, es):\n",
        "    unique = np.unique(assignments)\n",
        "    markers = pd.DataFrame(index=unique, columns=[\"name\", \"p_raw\", \"p_corr\", \"es\"])\n",
        "\n",
        "    for uidx, u in enumerate(unique):\n",
        "        markers.loc[u][\"name\"] = features\n",
        "        markers.loc[u][\"p_raw\"] = p_raw[uidx]\n",
        "        markers.loc[u][\"p_corr\"] = p_corr[uidx]\n",
        "        markers.loc[u][\"es\"] = es[uidx]\n",
        "\n",
        "    markers = markers.apply(pd.Series.explode).reset_index()\n",
        "    markers = markers[markers.notnull()[\"p_raw\"]]\n",
        "    return markers\n",
        "\n"
      ],
      "execution_count": 8,
      "outputs": []
    },
    {
      "cell_type": "code",
      "metadata": {
        "id": "7rxx-60QhVdx"
      },
      "source": [
        "gene = anndata.read_h5ad(\"TS_Uterus.h5ad\")\n",
        "gene.layers[\"log1p\"] = np.log1p(gene.layers[\"raw_counts\"])"
      ],
      "execution_count": 9,
      "outputs": []
    },
    {
      "cell_type": "code",
      "metadata": {
        "id": "LZVbswOCiIkZ"
      },
      "source": [
        "mat           = gene.layers[\"log1p\"].todense()\n",
        "components    = gene.obs.index.values\n",
        "features      = gene.var.gene_symbol.values\n",
        "assignments   = gene.obs.free_annotation.values\n",
        "\n",
        "unique = np.unique(assignments)\n",
        "nan_cutoff = 0.9 # of elements in cluster\n",
        "corr_method = \"bonferroni\"\n",
        "\n",
        "\n",
        "p_raw, stat, es, nfeat = dexpress(mat, components, features, assignments, nan_cutoff=nan_cutoff)\n",
        "p_raw = p_raw/2\n",
        "p_corr = correct_pval(p_raw, nfeat, corr_method)\n",
        "\n",
        "s = stat\n",
        "\n",
        "markers_gene = make_table(assignments, features, p_raw, p_corr, es)\n",
        "\n",
        "# convert the 0 pvalues to the smallest possible float\n",
        "markers_gene[\"p_corr\"][markers_gene.eval(\"p_corr == 0\").values] = sys.float_info.min\n",
        "markers_gene = markers_gene.query(\"es > 0\")"
      ],
      "execution_count": 10,
      "outputs": []
    },
    {
      "cell_type": "code",
      "metadata": {
        "id": "ht_0d2czjR11"
      },
      "source": [
        "df = markers_gene.rename(columns={\"index\": \"celltype\", \"name\": \"gene\"})"
      ],
      "execution_count": 11,
      "outputs": []
    },
    {
      "cell_type": "code",
      "source": [
        "bidx = df['gene'].isin(genes_list)\n",
        "print(f'Filtered {np.sum(~bidx)} out of {len(bidx)} genes')\n",
        "df = df[bidx]\n"
      ],
      "metadata": {
        "colab": {
          "base_uri": "https://localhost:8080/"
        },
        "id": "p8sfRSGblq28",
        "outputId": "68512d85-7532-43b8-806d-28d17b4197dd"
      },
      "execution_count": 12,
      "outputs": [
        {
          "output_type": "stream",
          "name": "stdout",
          "text": [
            "Filtered 12 out of 4162 genes\n"
          ]
        }
      ]
    },
    {
      "cell_type": "code",
      "metadata": {
        "colab": {
          "base_uri": "https://localhost:8080/",
          "height": 206
        },
        "id": "RtLjaAEQjxSP",
        "outputId": "b91c1197-2aa2-459d-9e11-193c0b772d31"
      },
      "source": [
        "df.head()"
      ],
      "execution_count": 13,
      "outputs": [
        {
          "output_type": "execute_result",
          "data": {
            "text/plain": [
              "           celltype   gene     p_raw    p_corr        es\n",
              "755   B lymphocytes  RPL11  0.005209       1.0  0.362733\n",
              "1280  B lymphocytes  SMAP2  0.000092  0.018762  1.342987\n",
              "1423  B lymphocytes   RPS8  0.030904       1.0  0.238902\n",
              "1483  B lymphocytes  UQCRH  0.165226       1.0  0.228354\n",
              "3073  B lymphocytes   MCL1  0.483782       1.0  0.010871"
            ],
            "text/html": [
              "\n",
              "  <div id=\"df-ddabc67f-5236-4ca6-88d4-46b51041a3d9\">\n",
              "    <div class=\"colab-df-container\">\n",
              "      <div>\n",
              "<style scoped>\n",
              "    .dataframe tbody tr th:only-of-type {\n",
              "        vertical-align: middle;\n",
              "    }\n",
              "\n",
              "    .dataframe tbody tr th {\n",
              "        vertical-align: top;\n",
              "    }\n",
              "\n",
              "    .dataframe thead th {\n",
              "        text-align: right;\n",
              "    }\n",
              "</style>\n",
              "<table border=\"1\" class=\"dataframe\">\n",
              "  <thead>\n",
              "    <tr style=\"text-align: right;\">\n",
              "      <th></th>\n",
              "      <th>celltype</th>\n",
              "      <th>gene</th>\n",
              "      <th>p_raw</th>\n",
              "      <th>p_corr</th>\n",
              "      <th>es</th>\n",
              "    </tr>\n",
              "  </thead>\n",
              "  <tbody>\n",
              "    <tr>\n",
              "      <th>755</th>\n",
              "      <td>B lymphocytes</td>\n",
              "      <td>RPL11</td>\n",
              "      <td>0.005209</td>\n",
              "      <td>1.0</td>\n",
              "      <td>0.362733</td>\n",
              "    </tr>\n",
              "    <tr>\n",
              "      <th>1280</th>\n",
              "      <td>B lymphocytes</td>\n",
              "      <td>SMAP2</td>\n",
              "      <td>0.000092</td>\n",
              "      <td>0.018762</td>\n",
              "      <td>1.342987</td>\n",
              "    </tr>\n",
              "    <tr>\n",
              "      <th>1423</th>\n",
              "      <td>B lymphocytes</td>\n",
              "      <td>RPS8</td>\n",
              "      <td>0.030904</td>\n",
              "      <td>1.0</td>\n",
              "      <td>0.238902</td>\n",
              "    </tr>\n",
              "    <tr>\n",
              "      <th>1483</th>\n",
              "      <td>B lymphocytes</td>\n",
              "      <td>UQCRH</td>\n",
              "      <td>0.165226</td>\n",
              "      <td>1.0</td>\n",
              "      <td>0.228354</td>\n",
              "    </tr>\n",
              "    <tr>\n",
              "      <th>3073</th>\n",
              "      <td>B lymphocytes</td>\n",
              "      <td>MCL1</td>\n",
              "      <td>0.483782</td>\n",
              "      <td>1.0</td>\n",
              "      <td>0.010871</td>\n",
              "    </tr>\n",
              "  </tbody>\n",
              "</table>\n",
              "</div>\n",
              "      <button class=\"colab-df-convert\" onclick=\"convertToInteractive('df-ddabc67f-5236-4ca6-88d4-46b51041a3d9')\"\n",
              "              title=\"Convert this dataframe to an interactive table.\"\n",
              "              style=\"display:none;\">\n",
              "        \n",
              "  <svg xmlns=\"http://www.w3.org/2000/svg\" height=\"24px\"viewBox=\"0 0 24 24\"\n",
              "       width=\"24px\">\n",
              "    <path d=\"M0 0h24v24H0V0z\" fill=\"none\"/>\n",
              "    <path d=\"M18.56 5.44l.94 2.06.94-2.06 2.06-.94-2.06-.94-.94-2.06-.94 2.06-2.06.94zm-11 1L8.5 8.5l.94-2.06 2.06-.94-2.06-.94L8.5 2.5l-.94 2.06-2.06.94zm10 10l.94 2.06.94-2.06 2.06-.94-2.06-.94-.94-2.06-.94 2.06-2.06.94z\"/><path d=\"M17.41 7.96l-1.37-1.37c-.4-.4-.92-.59-1.43-.59-.52 0-1.04.2-1.43.59L10.3 9.45l-7.72 7.72c-.78.78-.78 2.05 0 2.83L4 21.41c.39.39.9.59 1.41.59.51 0 1.02-.2 1.41-.59l7.78-7.78 2.81-2.81c.8-.78.8-2.07 0-2.86zM5.41 20L4 18.59l7.72-7.72 1.47 1.35L5.41 20z\"/>\n",
              "  </svg>\n",
              "      </button>\n",
              "      \n",
              "  <style>\n",
              "    .colab-df-container {\n",
              "      display:flex;\n",
              "      flex-wrap:wrap;\n",
              "      gap: 12px;\n",
              "    }\n",
              "\n",
              "    .colab-df-convert {\n",
              "      background-color: #E8F0FE;\n",
              "      border: none;\n",
              "      border-radius: 50%;\n",
              "      cursor: pointer;\n",
              "      display: none;\n",
              "      fill: #1967D2;\n",
              "      height: 32px;\n",
              "      padding: 0 0 0 0;\n",
              "      width: 32px;\n",
              "    }\n",
              "\n",
              "    .colab-df-convert:hover {\n",
              "      background-color: #E2EBFA;\n",
              "      box-shadow: 0px 1px 2px rgba(60, 64, 67, 0.3), 0px 1px 3px 1px rgba(60, 64, 67, 0.15);\n",
              "      fill: #174EA6;\n",
              "    }\n",
              "\n",
              "    [theme=dark] .colab-df-convert {\n",
              "      background-color: #3B4455;\n",
              "      fill: #D2E3FC;\n",
              "    }\n",
              "\n",
              "    [theme=dark] .colab-df-convert:hover {\n",
              "      background-color: #434B5C;\n",
              "      box-shadow: 0px 1px 3px 1px rgba(0, 0, 0, 0.15);\n",
              "      filter: drop-shadow(0px 1px 2px rgba(0, 0, 0, 0.3));\n",
              "      fill: #FFFFFF;\n",
              "    }\n",
              "  </style>\n",
              "\n",
              "      <script>\n",
              "        const buttonEl =\n",
              "          document.querySelector('#df-ddabc67f-5236-4ca6-88d4-46b51041a3d9 button.colab-df-convert');\n",
              "        buttonEl.style.display =\n",
              "          google.colab.kernel.accessAllowed ? 'block' : 'none';\n",
              "\n",
              "        async function convertToInteractive(key) {\n",
              "          const element = document.querySelector('#df-ddabc67f-5236-4ca6-88d4-46b51041a3d9');\n",
              "          const dataTable =\n",
              "            await google.colab.kernel.invokeFunction('convertToInteractive',\n",
              "                                                     [key], {});\n",
              "          if (!dataTable) return;\n",
              "\n",
              "          const docLinkHtml = 'Like what you see? Visit the ' +\n",
              "            '<a target=\"_blank\" href=https://colab.research.google.com/notebooks/data_table.ipynb>data table notebook</a>'\n",
              "            + ' to learn more about interactive tables.';\n",
              "          element.innerHTML = '';\n",
              "          dataTable['output_type'] = 'display_data';\n",
              "          await google.colab.output.renderOutput(dataTable, element);\n",
              "          const docLink = document.createElement('div');\n",
              "          docLink.innerHTML = docLinkHtml;\n",
              "          element.appendChild(docLink);\n",
              "        }\n",
              "      </script>\n",
              "    </div>\n",
              "  </div>\n",
              "  "
            ]
          },
          "metadata": {},
          "execution_count": 13
        }
      ]
    },
    {
      "cell_type": "code",
      "metadata": {
        "id": "mvaNEwyvkEjy"
      },
      "source": [
        "min_mean = 10\n",
        "max_pval = 0.05\n",
        "min_lfc = 0.75\n",
        "max_gene_shares = 5\n",
        "\n",
        "# filter by criteria\n",
        "dfc = df.query(f\"p_corr <= {max_pval} & es >= {min_lfc}\")\n",
        "\n",
        "# mask out genes that are shared between max_gene_shares cell type\n",
        "non_repeat_genes = dfc[\"gene\"].value_counts()[dfc[\"gene\"].value_counts() < max_gene_shares].index.values\n",
        "\n",
        "m = dfc[dfc.gene.isin(non_repeat_genes)].sort_values('es', ascending = True)\n",
        "\n",
        "# max number to sample is equal to the min number of genes across all celltype\n",
        "n_sample = m[\"celltype\"].value_counts().min()\n",
        "\n",
        "# get n_sample genes\n",
        "markers = m.groupby('celltype').tail(n_sample)\n",
        "markers_dict = markers.groupby(\"celltype\")[\"gene\"].apply(lambda x: list(x)).to_dict()"
      ],
      "execution_count": 14,
      "outputs": []
    },
    {
      "cell_type": "code",
      "metadata": {
        "colab": {
          "base_uri": "https://localhost:8080/"
        },
        "id": "OOXriyIwkRYo",
        "outputId": "7272eb69-ebba-4d51-87af-0f4df5fff9e7"
      },
      "source": [
        "m.celltype.value_counts()"
      ],
      "execution_count": 15,
      "outputs": [
        {
          "output_type": "execute_result",
          "data": {
            "text/plain": [
              "Cycling epithelial cells           1085\n",
              "Lymphatic endothelium               370\n",
              "Endometrial stromal fibbroblast     130\n",
              "Cycling immune cells                130\n",
              "Unciliated epithelium                63\n",
              "Macrophages                          63\n",
              "Ciliated epithelium                  57\n",
              "Pericyte                             42\n",
              "Endothelium                          39\n",
              "Vascular smooth muscle               38\n",
              "Myometrial smooth muscle             23\n",
              "Uterine NK cells                     12\n",
              "B lymphocytes                         6\n",
              "T lymphocytes                         5\n",
              "Name: celltype, dtype: int64"
            ]
          },
          "metadata": {},
          "execution_count": 15
        }
      ]
    },
    {
      "cell_type": "code",
      "metadata": {
        "colab": {
          "base_uri": "https://localhost:8080/"
        },
        "id": "4bHb8aMskkvt",
        "outputId": "f014a97a-c085-4e73-a5d5-82b35b892d9f"
      },
      "source": [
        "markers.celltype.value_counts()"
      ],
      "execution_count": 16,
      "outputs": [
        {
          "output_type": "execute_result",
          "data": {
            "text/plain": [
              "T lymphocytes                      5\n",
              "B lymphocytes                      5\n",
              "Endothelium                        5\n",
              "Pericyte                           5\n",
              "Uterine NK cells                   5\n",
              "Cycling immune cells               5\n",
              "Myometrial smooth muscle           5\n",
              "Lymphatic endothelium              5\n",
              "Vascular smooth muscle             5\n",
              "Ciliated epithelium                5\n",
              "Macrophages                        5\n",
              "Endometrial stromal fibbroblast    5\n",
              "Unciliated epithelium              5\n",
              "Cycling epithelial cells           5\n",
              "Name: celltype, dtype: int64"
            ]
          },
          "metadata": {},
          "execution_count": 16
        }
      ]
    },
    {
      "cell_type": "code",
      "metadata": {
        "id": "23ljRVpeknLl"
      },
      "source": [
        "write_markers(\"markers.txt\", markers_dict, header)"
      ],
      "execution_count": 17,
      "outputs": []
    },
    {
      "cell_type": "code",
      "metadata": {
        "id": "5SR3wfQTkpbS",
        "colab": {
          "base_uri": "https://localhost:8080/"
        },
        "outputId": "ad0793cf-623c-450b-99f3-d218f393d387"
      },
      "source": [
        "!cat markers.txt"
      ],
      "execution_count": 18,
      "outputs": [
        {
          "output_type": "stream",
          "name": "stdout",
          "text": [
            "# \t\t\t\thttps://figshare.com/ndownloader/files/28846980\n",
            "B lymphocytes\tEZR,SMAP2,HLA-DPA1,CD74,CD79A\n",
            "Ciliated epithelium\tEPCAM,ELF3,WFDC2,CLDN3,CAPS\n",
            "Cycling epithelial cells\tCLDN3,CLDN4,ELF3,WFDC2,MMP7\n",
            "Cycling immune cells\tCCL4,PCLAF,CORO1A,HMGB2,HIST1H4C\n",
            "Endometrial stromal fibbroblast\tCOL1A2,COL3A1,MMP11,SFRP4,COL1A1\n",
            "Endothelium\tCD93,NDRG1,CSF3,SERPINE1,TM4SF1\n",
            "Lymphatic endothelium\tENG,KLF2,RAMP2,A2M,IGFBP7\n",
            "Macrophages\tRNASE1,CCL3,FCER1G,TYROBP,IL1B\n",
            "Myometrial smooth muscle\tMYL9,TPM2,ACTA2,MYH11,TAGLN\n",
            "Pericyte\tACTA2,C11orf96,RGS5,ADIRF,TAGLN\n",
            "T lymphocytes\tSARAF,ARHGDIB,CD3D,TSC22D3,CXCR4\n",
            "Unciliated epithelium\tKRT8,EPCAM,UCA1,ELF3,CLDN4\n",
            "Uterine NK cells\tTSC22D3,CD7,AREG,NKG7,GNLY\n",
            "Vascular smooth muscle\tMYL9,C11orf96,MYH11,TAGLN,ADIRF\n"
          ]
        }
      ]
    },
    {
      "cell_type": "code",
      "source": [
        "# Gzip and split anndata object to store locally\n",
        "# ! gzip TS_uterus.h5ad\n",
        "# !split -C 99m --numeric-suffixes TS_Uterus.h5ad.gz TS_Uterus.h5ad.gz"
      ],
      "metadata": {
        "id": "9-QRAdtnnWVQ"
      },
      "execution_count": 19,
      "outputs": []
    },
    {
      "cell_type": "code",
      "source": [],
      "metadata": {
        "id": "0Sm8TAVYnkIv"
      },
      "execution_count": 19,
      "outputs": []
    }
  ]
}
